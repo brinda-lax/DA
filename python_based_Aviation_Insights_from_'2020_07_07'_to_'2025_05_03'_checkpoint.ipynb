{
  "cells": [
    {
      "cell_type": "markdown",
      "metadata": {
        "id": "view-in-github",
        "colab_type": "text"
      },
      "source": [
        "<a href=\"https://colab.research.google.com/github/brinda-lax/DA/blob/main/python_based_Aviation_Insights_from_'2020_07_07'_to_'2025_05_03'_checkpoint.ipynb\" target=\"_parent\"><img src=\"https://colab.research.google.com/assets/colab-badge.svg\" alt=\"Open In Colab\"/></a>"
      ]
    },
    {
      "cell_type": "code",
      "execution_count": null,
      "id": "21fd913a-a8f7-4c31-bf12-79b29a39ff80",
      "metadata": {
        "id": "21fd913a-a8f7-4c31-bf12-79b29a39ff80"
      },
      "outputs": [],
      "source": [
        "import numpy as np\n",
        "import pandas as pd\n"
      ]
    },
    {
      "cell_type": "code",
      "execution_count": null,
      "id": "58e08df2-aa40-4a80-a89f-5242989d16fb",
      "metadata": {
        "id": "58e08df2-aa40-4a80-a89f-5242989d16fb"
      },
      "outputs": [],
      "source": [
        "daily=pd.read_csv('daily.csv')"
      ]
    },
    {
      "cell_type": "code",
      "execution_count": null,
      "id": "ae021f8b-74df-4d84-8609-f6ed7db86551",
      "metadata": {
        "id": "ae021f8b-74df-4d84-8609-f6ed7db86551",
        "outputId": "706425e7-555d-4d91-d177-ad03838af911"
      },
      "outputs": [
        {
          "data": {
            "text/plain": [
              "Index(['Date', 'Domestic (Aircraft Movements)', 'Domestic (Airport Footfalls)',\n",
              "       'Domestic (Arrival Flights)', 'Domestic (Arriving Pax)',\n",
              "       'Domestic (Departing Pax)', 'Domestic (Departure Flights)',\n",
              "       'International (Aircraft Movements)',\n",
              "       'International (Airport Footfalls)', 'International (Arrival Flights)',\n",
              "       ...\n",
              "       'Vande Bharat Mission (Inbound Pax)',\n",
              "       'Vande Bharat Mission (Outbound Flights)',\n",
              "       'Vande Bharat Mission (Outbound Pax)',\n",
              "       'Vande Bharat Mission (Passengers Till Date)',\n",
              "       'Vande Bharat Mission - Arrivals (Air India Group)',\n",
              "       'Vande Bharat Mission - Arrivals (By Land)',\n",
              "       'Vande Bharat Mission - Arrivals (Chartered)',\n",
              "       'Vande Bharat Mission - Arrivals (Naval Ships)',\n",
              "       'Vande Bharat Mission - Arrivals (Others)',\n",
              "       'Vande Bharat Mission - Arrivals (Total)'],\n",
              "      dtype='object', length=166)"
            ]
          },
          "execution_count": 101,
          "metadata": {},
          "output_type": "execute_result"
        }
      ],
      "source": [
        "daily.columns"
      ]
    },
    {
      "cell_type": "code",
      "execution_count": null,
      "id": "a1e49c4f-dcac-4579-b8be-006a7ec09606",
      "metadata": {
        "id": "a1e49c4f-dcac-4579-b8be-006a7ec09606"
      },
      "outputs": [],
      "source": [
        "city=pd.read_csv('city.csv')"
      ]
    },
    {
      "cell_type": "code",
      "execution_count": null,
      "id": "f9e2d58a-7cb8-4c86-b2f0-cccbbe1fe5a3",
      "metadata": {
        "id": "f9e2d58a-7cb8-4c86-b2f0-cccbbe1fe5a3",
        "outputId": "6b0d017c-fe7b-4201-9c44-b48dcd8642f4"
      },
      "outputs": [
        {
          "data": {
            "text/plain": [
              "Index(['Year', 'Month', 'City1', 'City2', 'PaxToCity2', 'PaxFromCity2',\n",
              "       'FreightToCity2', 'FreightFromCity2', 'MailToCity2', 'MailFromCity2'],\n",
              "      dtype='object')"
            ]
          },
          "execution_count": 105,
          "metadata": {},
          "output_type": "execute_result"
        }
      ],
      "source": [
        "city.columns"
      ]
    },
    {
      "cell_type": "code",
      "execution_count": null,
      "id": "55938134-20fa-453b-a903-fe6049d3133c",
      "metadata": {
        "id": "55938134-20fa-453b-a903-fe6049d3133c"
      },
      "outputs": [],
      "source": [
        "carrier=pd.read_csv('carrier.csv')"
      ]
    },
    {
      "cell_type": "code",
      "execution_count": null,
      "id": "b1911a77-8859-4ee5-bd7e-cc17ac6c1a1d",
      "metadata": {
        "id": "b1911a77-8859-4ee5-bd7e-cc17ac6c1a1d",
        "outputId": "fb3408af-1c78-4d9d-bc59-d0b442bdb859"
      },
      "outputs": [
        {
          "data": {
            "text/plain": [
              "Index(['Type', 'Airline', 'Year', 'Month', 'Aircraft Number', 'Aircraft Hours',\n",
              "       'Aircraft Kilometres', 'Passenger Number', 'Passenger Kilometers',\n",
              "       'Seat Kilometers', 'Passenger Load Factor', 'Freight', 'Mail',\n",
              "       'Total Cargo', 'Passenger Tonne Kilometer', 'Mail Tonne Kilometer',\n",
              "       'Freight Tonne Kilometer', 'Total Tonne Kilometer',\n",
              "       'Available Tonne Kilometer', 'Weight Load Factor'],\n",
              "      dtype='object')"
            ]
          },
          "execution_count": 109,
          "metadata": {},
          "output_type": "execute_result"
        }
      ],
      "source": [
        "carrier.columns"
      ]
    },
    {
      "cell_type": "code",
      "execution_count": null,
      "id": "99c7e195-d91b-4ddb-b046-73fbe03e6763",
      "metadata": {
        "id": "99c7e195-d91b-4ddb-b046-73fbe03e6763"
      },
      "outputs": [],
      "source": [
        "daily_needed_cols=[\n",
        "    'Date',\n",
        "    'Domestic (Airport Footfalls)',\n",
        "    'Domestic (Arriving Pax)',\n",
        "    'Domestic (Departing Pax)',\n",
        "    'Domestic (Arrival Flights)',\n",
        "    'Domestic (Departure Flights)',\n",
        "    'International (Arrival Flights)',\n",
        "    'International (Departure Flights)',\n",
        "    'International (Airport Footfalls)'\n",
        "]\n",
        "daily=daily[daily_needed_cols]"
      ]
    },
    {
      "cell_type": "code",
      "execution_count": null,
      "id": "c703b672-3218-4cab-81cc-f109315bd0d2",
      "metadata": {
        "id": "c703b672-3218-4cab-81cc-f109315bd0d2"
      },
      "outputs": [],
      "source": [
        "city_needed_cols=['Year', 'Month', 'City1', 'City2', 'PaxToCity2', 'PaxFromCity2']\n",
        "city=city[city_needed_cols]\n",
        "\n"
      ]
    },
    {
      "cell_type": "code",
      "execution_count": null,
      "id": "270457ca-05cc-4fef-840e-3a978ee7aee6",
      "metadata": {
        "id": "270457ca-05cc-4fef-840e-3a978ee7aee6"
      },
      "outputs": [],
      "source": [
        "carrier_needed_cols=['Type', 'Airline', 'Year', 'Month', 'Aircraft Number', 'Aircraft Hours']\n",
        "carrier=carrier[carrier_needed_cols]"
      ]
    },
    {
      "cell_type": "code",
      "execution_count": null,
      "id": "2729a75d-697e-435a-8a31-e85214c81050",
      "metadata": {
        "id": "2729a75d-697e-435a-8a31-e85214c81050",
        "outputId": "d494afff-5feb-453f-ba81-133cb10ee456"
      },
      "outputs": [
        {
          "data": {
            "text/plain": [
              "Index(['Date', 'Domestic (Airport Footfalls)', 'Domestic (Arriving Pax)',\n",
              "       'Domestic (Departing Pax)', 'Domestic (Arrival Flights)',\n",
              "       'Domestic (Departure Flights)', 'International (Arrival Flights)',\n",
              "       'International (Departure Flights)',\n",
              "       'International (Airport Footfalls)'],\n",
              "      dtype='object')"
            ]
          },
          "execution_count": 117,
          "metadata": {},
          "output_type": "execute_result"
        }
      ],
      "source": [
        "daily.columns"
      ]
    },
    {
      "cell_type": "markdown",
      "id": "c49fce61-8b3a-4936-8e12-aac23ea1af5a",
      "metadata": {
        "id": "c49fce61-8b3a-4936-8e12-aac23ea1af5a"
      },
      "source": [
        "## Daily Footfalls including domestic international ##"
      ]
    },
    {
      "cell_type": "code",
      "execution_count": null,
      "id": "760876e8-41dc-4ec5-8cb7-79f960829c5e",
      "metadata": {
        "id": "760876e8-41dc-4ec5-8cb7-79f960829c5e",
        "outputId": "424cf561-c332-4fe8-c822-178951048efe"
      },
      "outputs": [
        {
          "data": {
            "text/html": [
              "<div>\n",
              "<style scoped>\n",
              "    .dataframe tbody tr th:only-of-type {\n",
              "        vertical-align: middle;\n",
              "    }\n",
              "\n",
              "    .dataframe tbody tr th {\n",
              "        vertical-align: top;\n",
              "    }\n",
              "\n",
              "    .dataframe thead th {\n",
              "        text-align: right;\n",
              "    }\n",
              "</style>\n",
              "<table border=\"1\" class=\"dataframe\">\n",
              "  <thead>\n",
              "    <tr style=\"text-align: right;\">\n",
              "      <th></th>\n",
              "      <th>Domestic (Airport Footfalls)</th>\n",
              "      <th>Domestic (Arriving Pax)</th>\n",
              "      <th>Domestic (Departing Pax)</th>\n",
              "    </tr>\n",
              "  </thead>\n",
              "  <tbody>\n",
              "    <tr>\n",
              "      <th>0</th>\n",
              "      <td>121838</td>\n",
              "      <td>60326</td>\n",
              "      <td>61512</td>\n",
              "    </tr>\n",
              "    <tr>\n",
              "      <th>1</th>\n",
              "      <td>125370</td>\n",
              "      <td>62395</td>\n",
              "      <td>62975</td>\n",
              "    </tr>\n",
              "    <tr>\n",
              "      <th>2</th>\n",
              "      <td>180099</td>\n",
              "      <td>89322</td>\n",
              "      <td>90777</td>\n",
              "    </tr>\n",
              "    <tr>\n",
              "      <th>3</th>\n",
              "      <td>158958</td>\n",
              "      <td>78766</td>\n",
              "      <td>80192</td>\n",
              "    </tr>\n",
              "    <tr>\n",
              "      <th>4</th>\n",
              "      <td>183526</td>\n",
              "      <td>89887</td>\n",
              "      <td>93639</td>\n",
              "    </tr>\n",
              "    <tr>\n",
              "      <th>...</th>\n",
              "      <td>...</td>\n",
              "      <td>...</td>\n",
              "      <td>...</td>\n",
              "    </tr>\n",
              "    <tr>\n",
              "      <th>848</th>\n",
              "      <td>970957</td>\n",
              "      <td>482683</td>\n",
              "      <td>488274</td>\n",
              "    </tr>\n",
              "    <tr>\n",
              "      <th>849</th>\n",
              "      <td>966725</td>\n",
              "      <td>482380</td>\n",
              "      <td>484345</td>\n",
              "    </tr>\n",
              "    <tr>\n",
              "      <th>850</th>\n",
              "      <td>967864</td>\n",
              "      <td>483908</td>\n",
              "      <td>483956</td>\n",
              "    </tr>\n",
              "    <tr>\n",
              "      <th>851</th>\n",
              "      <td>922793</td>\n",
              "      <td>462499</td>\n",
              "      <td>460294</td>\n",
              "    </tr>\n",
              "    <tr>\n",
              "      <th>852</th>\n",
              "      <td>950814</td>\n",
              "      <td>476976</td>\n",
              "      <td>473838</td>\n",
              "    </tr>\n",
              "  </tbody>\n",
              "</table>\n",
              "<p>853 rows × 3 columns</p>\n",
              "</div>"
            ],
            "text/plain": [
              "     Domestic (Airport Footfalls)  Domestic (Arriving Pax)  \\\n",
              "0                          121838                    60326   \n",
              "1                          125370                    62395   \n",
              "2                          180099                    89322   \n",
              "3                          158958                    78766   \n",
              "4                          183526                    89887   \n",
              "..                            ...                      ...   \n",
              "848                        970957                   482683   \n",
              "849                        966725                   482380   \n",
              "850                        967864                   483908   \n",
              "851                        922793                   462499   \n",
              "852                        950814                   476976   \n",
              "\n",
              "     Domestic (Departing Pax)  \n",
              "0                       61512  \n",
              "1                       62975  \n",
              "2                       90777  \n",
              "3                       80192  \n",
              "4                       93639  \n",
              "..                        ...  \n",
              "848                    488274  \n",
              "849                    484345  \n",
              "850                    483956  \n",
              "851                    460294  \n",
              "852                    473838  \n",
              "\n",
              "[853 rows x 3 columns]"
            ]
          },
          "execution_count": 120,
          "metadata": {},
          "output_type": "execute_result"
        }
      ],
      "source": [
        "daily[['Domestic (Airport Footfalls)','Domestic (Arriving Pax)','Domestic (Departing Pax)']]"
      ]
    },
    {
      "cell_type": "code",
      "execution_count": null,
      "id": "fbbcea0e-aec4-4612-8eb3-d2ccb0f3202e",
      "metadata": {
        "id": "fbbcea0e-aec4-4612-8eb3-d2ccb0f3202e"
      },
      "outputs": [],
      "source": [
        "daily['Total_foot_falls']=daily['Domestic (Airport Footfalls)']+daily['International (Airport Footfalls)']"
      ]
    },
    {
      "cell_type": "code",
      "execution_count": null,
      "id": "17ff4458-f501-482a-a2d0-cc2f2f4cc10b",
      "metadata": {
        "id": "17ff4458-f501-482a-a2d0-cc2f2f4cc10b"
      },
      "outputs": [],
      "source": [
        "Total_foot_fall=daily['Total_foot_falls'].sum()"
      ]
    },
    {
      "cell_type": "code",
      "execution_count": null,
      "id": "aabc0e53-d6e2-4524-9218-a9f8e1295f30",
      "metadata": {
        "id": "aabc0e53-d6e2-4524-9218-a9f8e1295f30",
        "outputId": "a7f159e7-8347-4c14-dccc-0ef4498c393d"
      },
      "outputs": [
        {
          "name": "stdout",
          "output_type": "stream",
          "text": [
            "Total footfalls across period: 824,591,087.0\n"
          ]
        }
      ],
      "source": [
        "print(f\"Total footfalls across period: {Total_foot_fall:,}\")"
      ]
    },
    {
      "cell_type": "code",
      "execution_count": null,
      "id": "08c46e05-b452-43fb-bc4b-b72e183eb7aa",
      "metadata": {
        "id": "08c46e05-b452-43fb-bc4b-b72e183eb7aa",
        "outputId": "76e935c6-16ac-45d7-a2ec-d27278990f06"
      },
      "outputs": [
        {
          "data": {
            "text/plain": [
              "737"
            ]
          },
          "execution_count": 132,
          "metadata": {},
          "output_type": "execute_result"
        }
      ],
      "source": [
        "daily['Total_foot_falls'].idxmax()"
      ]
    },
    {
      "cell_type": "code",
      "execution_count": null,
      "id": "5b422134-6458-47d3-abee-8be573b9d2d6",
      "metadata": {
        "id": "5b422134-6458-47d3-abee-8be573b9d2d6",
        "outputId": "326bcf24-0acb-4b07-9a20-b083366de80a"
      },
      "outputs": [
        {
          "data": {
            "text/plain": [
              "33"
            ]
          },
          "execution_count": 157,
          "metadata": {},
          "output_type": "execute_result"
        }
      ],
      "source": [
        "min_row_index=daily['Total_foot_falls'].idxmin()\n",
        "min_row_index"
      ]
    },
    {
      "cell_type": "code",
      "execution_count": null,
      "id": "6438c516-77b3-4230-b372-55afdf9a32c1",
      "metadata": {
        "id": "6438c516-77b3-4230-b372-55afdf9a32c1"
      },
      "outputs": [],
      "source": [
        "max_row=daily.iloc[737]"
      ]
    },
    {
      "cell_type": "code",
      "execution_count": null,
      "id": "73d3a7c5-61a5-4cfe-af3f-8773dccd7896",
      "metadata": {
        "id": "73d3a7c5-61a5-4cfe-af3f-8773dccd7896"
      },
      "outputs": [],
      "source": [
        "min_row=daily.iloc[33]"
      ]
    },
    {
      "cell_type": "code",
      "execution_count": null,
      "id": "4fad7c19-c889-4236-84b6-2710955942a4",
      "metadata": {
        "id": "4fad7c19-c889-4236-84b6-2710955942a4"
      },
      "outputs": [],
      "source": [
        "print(f\" Max passengers entered and exited in airport was on Date {max_row['Date']} with {max_row['Total_foot_falls']:,} footfalls.\")\n"
      ]
    },
    {
      "cell_type": "code",
      "execution_count": null,
      "id": "52d286b6-b5b0-4c87-aa22-194cf8014535",
      "metadata": {
        "id": "52d286b6-b5b0-4c87-aa22-194cf8014535",
        "outputId": "1fe39755-df8e-4ef9-97d4-4d26e4f9eccd"
      },
      "outputs": [
        {
          "name": "stdout",
          "output_type": "stream",
          "text": [
            " Max passengers entered and exited in airport was on Date 2021-07-22 with 297,233.0 footfalls.\n"
          ]
        }
      ],
      "source": [
        "print(f\" Max passengers entered and exited in airport was on Date {min_row['Date']} with {min_row['Total_foot_falls']:,} footfalls.\")\n"
      ]
    },
    {
      "cell_type": "code",
      "execution_count": null,
      "id": "1dd8a945-0c17-494d-a82f-7226b5e96642",
      "metadata": {
        "id": "1dd8a945-0c17-494d-a82f-7226b5e96642",
        "outputId": "d658129a-d2d3-44df-ae08-3358efe6d3a0"
      },
      "outputs": [
        {
          "data": {
            "text/plain": [
              "'2025-05-03'"
            ]
          },
          "execution_count": 147,
          "metadata": {},
          "output_type": "execute_result"
        }
      ],
      "source": [
        "daily['Date'].max()"
      ]
    },
    {
      "cell_type": "markdown",
      "id": "a41e3dd3-f183-41b8-b5da-4f48e6f20b94",
      "metadata": {
        "id": "a41e3dd3-f183-41b8-b5da-4f48e6f20b94"
      },
      "source": [
        "Daily report includes various columns like daily footfall and dates over period ranging from '2020-07-07' to '2025-05-03'"
      ]
    },
    {
      "cell_type": "markdown",
      "id": "8f5446ee-b052-4468-a674-00747c8ca44d",
      "metadata": {
        "id": "8f5446ee-b052-4468-a674-00747c8ca44d"
      },
      "source": [
        "️ **Daily Average Footfall**\n"
      ]
    },
    {
      "cell_type": "code",
      "execution_count": null,
      "id": "39f3ed06-de71-4ff6-8c9d-c1f992845802",
      "metadata": {
        "id": "39f3ed06-de71-4ff6-8c9d-c1f992845802",
        "outputId": "40305d71-2869-4006-db1f-b975410602c0"
      },
      "outputs": [
        {
          "data": {
            "text/plain": [
              "1004374.04"
            ]
          },
          "execution_count": 172,
          "metadata": {},
          "output_type": "execute_result"
        }
      ],
      "source": [
        "Avg_foot_fall=round(daily['Total_foot_falls'].mean(),2)\n",
        "Avg_foot_fall"
      ]
    },
    {
      "cell_type": "markdown",
      "id": "16a0091a-c86c-4af0-b739-e5bdb9f94fcd",
      "metadata": {
        "id": "16a0091a-c86c-4af0-b739-e5bdb9f94fcd"
      },
      "source": [
        "**Busiest Days Summary**"
      ]
    },
    {
      "cell_type": "code",
      "execution_count": null,
      "id": "e653dc41-173a-4290-9089-9300c9b0bea7",
      "metadata": {
        "id": "e653dc41-173a-4290-9089-9300c9b0bea7",
        "outputId": "4300e3f7-92f8-4bf6-b9d9-b8ea58792f4b"
      },
      "outputs": [
        {
          "name": "stdout",
          "output_type": "stream",
          "text": [
            "           Date  Total_foot_falls\n",
            "737  2024-12-10         1493747.0\n",
            "790  2025-02-23         1312369.0\n",
            "784  2025-02-17         1308083.0\n",
            "783  2025-02-16         1305494.0\n",
            "788  2025-02-21         1298887.0\n"
          ]
        }
      ],
      "source": [
        "top_days = daily.nlargest(5, 'Total_foot_falls')[['Date', 'Total_foot_falls']]\n",
        "print(top_days)\n"
      ]
    },
    {
      "cell_type": "code",
      "execution_count": null,
      "id": "6cb4c9fe-87b1-4a21-ae30-48ad265b3a36",
      "metadata": {
        "id": "6cb4c9fe-87b1-4a21-ae30-48ad265b3a36",
        "outputId": "474ec607-04a3-4730-9afd-9403b9e2f7bf"
      },
      "outputs": [
        {
          "name": "stdout",
          "output_type": "stream",
          "text": [
            "           Date  Total_foot_falls\n",
            "33   2021-07-22          297233.0\n",
            "34   2021-07-29          307096.0\n",
            "32   2021-07-21          337701.0\n",
            "35   2021-07-30          341870.0\n",
            "104  2022-01-18          368656.0\n"
          ]
        }
      ],
      "source": [
        "bottom_days = daily.nsmallest(5, 'Total_foot_falls')[['Date', 'Total_foot_falls']]\n",
        "print(bottom_days)"
      ]
    },
    {
      "cell_type": "markdown",
      "id": "2207a6f2-98d7-46fd-ae42-4ca806a10c4e",
      "metadata": {
        "id": "2207a6f2-98d7-46fd-ae42-4ca806a10c4e"
      },
      "source": [
        "️ **Monthly Trend**\n"
      ]
    },
    {
      "cell_type": "code",
      "execution_count": null,
      "id": "8668278e-71af-4b59-80cc-4216cb1e105e",
      "metadata": {
        "id": "8668278e-71af-4b59-80cc-4216cb1e105e"
      },
      "outputs": [],
      "source": [
        "daily['Date']=pd.to_datetime(daily['Date'])"
      ]
    },
    {
      "cell_type": "code",
      "execution_count": null,
      "id": "9e6732e4-8aad-48e4-83e0-db9de7b5d0aa",
      "metadata": {
        "id": "9e6732e4-8aad-48e4-83e0-db9de7b5d0aa",
        "outputId": "d7dde301-b21c-44d1-9a17-256e342bffe7"
      },
      "outputs": [
        {
          "name": "stdout",
          "output_type": "stream",
          "text": [
            "   Month Name  Total_foot_falls\n",
            "0       April       102950799.0\n",
            "1      August        46958218.0\n",
            "2    December        73226299.0\n",
            "3    February        81779987.0\n",
            "4     January        63285168.0\n",
            "5        July        59544298.0\n",
            "6        June        55897196.0\n",
            "7       March       103647824.0\n",
            "8         May        73053416.0\n",
            "9    November        69375648.0\n",
            "10    October        58969560.0\n",
            "11  September        35902674.0\n"
          ]
        }
      ],
      "source": [
        "#daily['Date'] = pd.to_datetime(daily['Date'])\n",
        "daily['Month Name'] = daily['Date'].dt.strftime('%B')\n",
        "\n",
        "monthly_footfall = daily.groupby('Month Name')['Total_foot_falls'].sum().reset_index()\n",
        "print(monthly_footfall)"
      ]
    },
    {
      "cell_type": "code",
      "execution_count": null,
      "id": "ebe8da2a-b470-4ed8-af93-118dbc9ee47e",
      "metadata": {
        "id": "ebe8da2a-b470-4ed8-af93-118dbc9ee47e",
        "outputId": "e3722d97-07a9-4118-b797-aebcea2dabcf"
      },
      "outputs": [
        {
          "data": {
            "image/png": "[encoded data removed]",
            "text/plain": [
              "<Figure size 1200x600 with 1 Axes>"
            ]
          },
          "metadata": {},
          "output_type": "display_data"
        }
      ],
      "source": [
        "import matplotlib.pyplot as plt\n",
        "plt.figure(figsize=(12,6))\n",
        "plt.plot(monthly_footfall['Month Name'], monthly_footfall['Total_foot_falls'], color='teal', linewidth=2,marker='o')\n",
        "plt.title('Daily Total Airport Footfalls')\n",
        "plt.xlabel('Month')\n",
        "plt.ylabel('Total Footfalls')\n",
        "plt.grid(True)\n",
        "plt.tight_layout()\n",
        "plt.show()"
      ]
    },
    {
      "cell_type": "code",
      "execution_count": null,
      "id": "6c7dfc22-8ba7-4fbd-ae74-a82ecd857ff2",
      "metadata": {
        "id": "6c7dfc22-8ba7-4fbd-ae74-a82ecd857ff2",
        "outputId": "54fd0b90-0dcd-4404-a404-ac9d50bebffe"
      },
      "outputs": [
        {
          "data": {
            "text/plain": [
              "Index(['Date', 'Domestic (Airport Footfalls)', 'Domestic (Arriving Pax)',\n",
              "       'Domestic (Departing Pax)', 'Domestic (Arrival Flights)',\n",
              "       'Domestic (Departure Flights)', 'International (Arrival Flights)',\n",
              "       'International (Departure Flights)',\n",
              "       'International (Airport Footfalls)', 'Total_foot_falls', 'Month',\n",
              "       'Month Name'],\n",
              "      dtype='object')"
            ]
          },
          "execution_count": 207,
          "metadata": {},
          "output_type": "execute_result"
        }
      ],
      "source": [
        "daily.columns"
      ]
    },
    {
      "cell_type": "code",
      "execution_count": null,
      "id": "7eb69098-8866-4b1b-8182-137e16071825",
      "metadata": {
        "id": "7eb69098-8866-4b1b-8182-137e16071825",
        "outputId": "7365b5de-4b4b-4407-c029-46d6f1fd4987"
      },
      "outputs": [
        {
          "data": {
            "text/html": [
              "<div>\n",
              "<style scoped>\n",
              "    .dataframe tbody tr th:only-of-type {\n",
              "        vertical-align: middle;\n",
              "    }\n",
              "\n",
              "    .dataframe tbody tr th {\n",
              "        vertical-align: top;\n",
              "    }\n",
              "\n",
              "    .dataframe thead th {\n",
              "        text-align: right;\n",
              "    }\n",
              "</style>\n",
              "<table border=\"1\" class=\"dataframe\">\n",
              "  <thead>\n",
              "    <tr style=\"text-align: right;\">\n",
              "      <th></th>\n",
              "      <th>Year</th>\n",
              "      <th>Month</th>\n",
              "      <th>City1</th>\n",
              "      <th>City2</th>\n",
              "      <th>PaxToCity2</th>\n",
              "      <th>PaxFromCity2</th>\n",
              "    </tr>\n",
              "  </thead>\n",
              "  <tbody>\n",
              "    <tr>\n",
              "      <th>56042</th>\n",
              "      <td>2025</td>\n",
              "      <td>2</td>\n",
              "      <td>VIJAYAWADA</td>\n",
              "      <td>VISAKHAPATNAM</td>\n",
              "      <td>5510.0</td>\n",
              "      <td>5304.0</td>\n",
              "    </tr>\n",
              "    <tr>\n",
              "      <th>56043</th>\n",
              "      <td>2025</td>\n",
              "      <td>3</td>\n",
              "      <td>VIJAYAWADA</td>\n",
              "      <td>VISAKHAPATNAM</td>\n",
              "      <td>6011.0</td>\n",
              "      <td>5003.0</td>\n",
              "    </tr>\n",
              "    <tr>\n",
              "      <th>56044</th>\n",
              "      <td>2022</td>\n",
              "      <td>11</td>\n",
              "      <td>ZIRO</td>\n",
              "      <td>DIBRUGARH</td>\n",
              "      <td>4.0</td>\n",
              "      <td>8.0</td>\n",
              "    </tr>\n",
              "    <tr>\n",
              "      <th>56045</th>\n",
              "      <td>2022</td>\n",
              "      <td>11</td>\n",
              "      <td>ZIRO</td>\n",
              "      <td>LILABARI</td>\n",
              "      <td>3.0</td>\n",
              "      <td>23.0</td>\n",
              "    </tr>\n",
              "    <tr>\n",
              "      <th>56046</th>\n",
              "      <td>2022</td>\n",
              "      <td>10</td>\n",
              "      <td>Zero Airport</td>\n",
              "      <td>DIBRUGARH</td>\n",
              "      <td>4.0</td>\n",
              "      <td>1.0</td>\n",
              "    </tr>\n",
              "  </tbody>\n",
              "</table>\n",
              "</div>"
            ],
            "text/plain": [
              "       Year  Month         City1          City2  PaxToCity2  PaxFromCity2\n",
              "56042  2025      2    VIJAYAWADA  VISAKHAPATNAM      5510.0        5304.0\n",
              "56043  2025      3    VIJAYAWADA  VISAKHAPATNAM      6011.0        5003.0\n",
              "56044  2022     11          ZIRO      DIBRUGARH         4.0           8.0\n",
              "56045  2022     11          ZIRO       LILABARI         3.0          23.0\n",
              "56046  2022     10  Zero Airport      DIBRUGARH         4.0           1.0"
            ]
          },
          "execution_count": 215,
          "metadata": {},
          "output_type": "execute_result"
        }
      ],
      "source": [
        "city.tail()"
      ]
    },
    {
      "cell_type": "code",
      "execution_count": null,
      "id": "8dfc0158-c38f-486a-a427-7a965db10f23",
      "metadata": {
        "id": "8dfc0158-c38f-486a-a427-7a965db10f23"
      },
      "outputs": [],
      "source": [
        "city['Month']=pd.to_datetime(city['Month'])\n"
      ]
    },
    {
      "cell_type": "code",
      "execution_count": null,
      "id": "92f66e3f-42a6-4bca-bf40-005150245abb",
      "metadata": {
        "id": "92f66e3f-42a6-4bca-bf40-005150245abb"
      },
      "outputs": [],
      "source": [
        "city['Month Name'] = city['Month'].dt.strftime('%B')\n"
      ]
    },
    {
      "cell_type": "code",
      "execution_count": null,
      "id": "bfc90c6e-d846-4b82-905a-bc6eb9ffcccc",
      "metadata": {
        "id": "bfc90c6e-d846-4b82-905a-bc6eb9ffcccc"
      },
      "outputs": [],
      "source": [
        "city.drop(columns='Month',inplace=True)"
      ]
    },
    {
      "cell_type": "code",
      "execution_count": null,
      "id": "81fb279a-4885-4f34-abd6-d2816f3290b0",
      "metadata": {
        "id": "81fb279a-4885-4f34-abd6-d2816f3290b0",
        "outputId": "5ed634a8-668c-487e-a456-437e1b91e38b"
      },
      "outputs": [
        {
          "data": {
            "text/html": [
              "<div>\n",
              "<style scoped>\n",
              "    .dataframe tbody tr th:only-of-type {\n",
              "        vertical-align: middle;\n",
              "    }\n",
              "\n",
              "    .dataframe tbody tr th {\n",
              "        vertical-align: top;\n",
              "    }\n",
              "\n",
              "    .dataframe thead th {\n",
              "        text-align: right;\n",
              "    }\n",
              "</style>\n",
              "<table border=\"1\" class=\"dataframe\">\n",
              "  <thead>\n",
              "    <tr style=\"text-align: right;\">\n",
              "      <th></th>\n",
              "      <th>Year</th>\n",
              "      <th>City1</th>\n",
              "      <th>City2</th>\n",
              "      <th>PaxToCity2</th>\n",
              "      <th>PaxFromCity2</th>\n",
              "      <th>Month Name</th>\n",
              "    </tr>\n",
              "  </thead>\n",
              "  <tbody>\n",
              "    <tr>\n",
              "      <th>0</th>\n",
              "      <td>2021</td>\n",
              "      <td>ADAMPUR</td>\n",
              "      <td>AHMEDABAD</td>\n",
              "      <td>30.0</td>\n",
              "      <td>0.0</td>\n",
              "      <td>January</td>\n",
              "    </tr>\n",
              "    <tr>\n",
              "      <th>1</th>\n",
              "      <td>2018</td>\n",
              "      <td>ADAMPUR</td>\n",
              "      <td>DELHI</td>\n",
              "      <td>2258.0</td>\n",
              "      <td>2190.0</td>\n",
              "      <td>January</td>\n",
              "    </tr>\n",
              "    <tr>\n",
              "      <th>2</th>\n",
              "      <td>2018</td>\n",
              "      <td>ADAMPUR</td>\n",
              "      <td>DELHI</td>\n",
              "      <td>1984.0</td>\n",
              "      <td>1981.0</td>\n",
              "      <td>January</td>\n",
              "    </tr>\n",
              "  </tbody>\n",
              "</table>\n",
              "</div>"
            ],
            "text/plain": [
              "   Year    City1      City2  PaxToCity2  PaxFromCity2 Month Name\n",
              "0  2021  ADAMPUR  AHMEDABAD        30.0           0.0    January\n",
              "1  2018  ADAMPUR      DELHI      2258.0        2190.0    January\n",
              "2  2018  ADAMPUR      DELHI      1984.0        1981.0    January"
            ]
          },
          "execution_count": 231,
          "metadata": {},
          "output_type": "execute_result"
        }
      ],
      "source": [
        "city.head(3)"
      ]
    },
    {
      "cell_type": "code",
      "execution_count": null,
      "id": "3827e261-4c52-4467-88a5-58d31d88800d",
      "metadata": {
        "id": "3827e261-4c52-4467-88a5-58d31d88800d"
      },
      "outputs": [],
      "source": [
        "city_and_daily=pd.merge(city,daily,on='Month Name',how='inner')"
      ]
    },
    {
      "cell_type": "code",
      "execution_count": null,
      "id": "ba34b03d-7450-4ace-acf2-7e83a211a827",
      "metadata": {
        "id": "ba34b03d-7450-4ace-acf2-7e83a211a827",
        "outputId": "056ab519-6b35-4357-9576-930b1c793b02"
      },
      "outputs": [
        {
          "data": {
            "text/plain": [
              "Index(['Year', 'City1', 'City2', 'PaxToCity2', 'PaxFromCity2', 'Month Name',\n",
              "       'Date', 'Domestic (Airport Footfalls)', 'Domestic (Arriving Pax)',\n",
              "       'Domestic (Departing Pax)', 'Domestic (Arrival Flights)',\n",
              "       'Domestic (Departure Flights)', 'International (Arrival Flights)',\n",
              "       'International (Departure Flights)',\n",
              "       'International (Airport Footfalls)', 'Total_foot_falls', 'Month'],\n",
              "      dtype='object')"
            ]
          },
          "execution_count": 239,
          "metadata": {},
          "output_type": "execute_result"
        }
      ],
      "source": [
        "city_and_daily.columns"
      ]
    },
    {
      "cell_type": "code",
      "execution_count": null,
      "id": "9ac0cf09-ab44-439f-8ed0-861dd495d6dd",
      "metadata": {
        "id": "9ac0cf09-ab44-439f-8ed0-861dd495d6dd",
        "outputId": "c215ffb0-1be5-46cb-ee4d-1f415b428f5c"
      },
      "outputs": [
        {
          "data": {
            "text/plain": [
              "Year                                 0\n",
              "City1                                0\n",
              "City2                                0\n",
              "PaxToCity2                           0\n",
              "PaxFromCity2                         0\n",
              "Month Name                           0\n",
              "Date                                 0\n",
              "Domestic (Airport Footfalls)         0\n",
              "Domestic (Arriving Pax)              0\n",
              "Domestic (Departing Pax)             0\n",
              "Domestic (Arrival Flights)           0\n",
              "Domestic (Departure Flights)         0\n",
              "International (Arrival Flights)      0\n",
              "International (Departure Flights)    0\n",
              "International (Airport Footfalls)    0\n",
              "Total_foot_falls                     0\n",
              "Month                                0\n",
              "dtype: int64"
            ]
          },
          "execution_count": 267,
          "metadata": {},
          "output_type": "execute_result"
        }
      ],
      "source": [
        "city_and_daily.isna().sum()"
      ]
    },
    {
      "cell_type": "code",
      "execution_count": null,
      "id": "d7d9e441-1c71-47d5-82db-8aeaf4226d3f",
      "metadata": {
        "id": "d7d9e441-1c71-47d5-82db-8aeaf4226d3f"
      },
      "outputs": [],
      "source": [
        "international_mean_arrival=city_and_daily['International (Arrival Flights)'].mean()"
      ]
    },
    {
      "cell_type": "code",
      "execution_count": null,
      "id": "09ce9039-b12f-429a-b0ce-9ac489b9a826",
      "metadata": {
        "id": "09ce9039-b12f-429a-b0ce-9ac489b9a826"
      },
      "outputs": [],
      "source": [
        "city_and_daily['International (Arrival Flights)']=city_and_daily['International (Arrival Flights)'].fillna(international_mean_arrival)"
      ]
    },
    {
      "cell_type": "code",
      "execution_count": null,
      "id": "b6b14776-1669-4d5d-b9c4-0ca0bb235ee5",
      "metadata": {
        "id": "b6b14776-1669-4d5d-b9c4-0ca0bb235ee5"
      },
      "outputs": [],
      "source": [
        "International_Departure_Flights_mean=city_and_daily['International (Departure Flights)'].mean()\n",
        "International_Airport_Footfalls_mean=city_and_daily['International (Airport Footfalls)'].mean()\n",
        "Total_foot_falls_mean=city_and_daily['Total_foot_falls'].mean()"
      ]
    },
    {
      "cell_type": "code",
      "execution_count": null,
      "id": "cf8c95e1-9a4b-46cb-8eee-63c492d74115",
      "metadata": {
        "id": "cf8c95e1-9a4b-46cb-8eee-63c492d74115"
      },
      "outputs": [],
      "source": [
        "city_and_daily['International (Departure Flights)']=city_and_daily['International (Departure Flights)'].fillna(International_Departure_Flights_mean)\n",
        "city_and_daily['International (Airport Footfalls)']=city_and_daily['International (Airport Footfalls)'].fillna(International_Airport_Footfalls_mean)\n",
        "city_and_daily['Total_foot_falls']=city_and_daily['Total_foot_falls'].fillna(Total_foot_falls_mean)"
      ]
    },
    {
      "cell_type": "code",
      "execution_count": null,
      "id": "6eed3211-5e50-4e89-a237-2c7bca0f8184",
      "metadata": {
        "id": "6eed3211-5e50-4e89-a237-2c7bca0f8184",
        "outputId": "b65f82a6-29f6-4c50-ce60-4ed7ba996be4"
      },
      "outputs": [
        {
          "data": {
            "text/html": [
              "<div>\n",
              "<style scoped>\n",
              "    .dataframe tbody tr th:only-of-type {\n",
              "        vertical-align: middle;\n",
              "    }\n",
              "\n",
              "    .dataframe tbody tr th {\n",
              "        vertical-align: top;\n",
              "    }\n",
              "\n",
              "    .dataframe thead th {\n",
              "        text-align: right;\n",
              "    }\n",
              "</style>\n",
              "<table border=\"1\" class=\"dataframe\">\n",
              "  <thead>\n",
              "    <tr style=\"text-align: right;\">\n",
              "      <th></th>\n",
              "      <th>Year</th>\n",
              "      <th>City1</th>\n",
              "      <th>City2</th>\n",
              "      <th>PaxToCity2</th>\n",
              "      <th>PaxFromCity2</th>\n",
              "      <th>Month Name</th>\n",
              "      <th>Date</th>\n",
              "      <th>Domestic (Airport Footfalls)</th>\n",
              "      <th>Domestic (Arriving Pax)</th>\n",
              "      <th>Domestic (Departing Pax)</th>\n",
              "      <th>Domestic (Arrival Flights)</th>\n",
              "      <th>Domestic (Departure Flights)</th>\n",
              "      <th>International (Arrival Flights)</th>\n",
              "      <th>International (Departure Flights)</th>\n",
              "      <th>International (Airport Footfalls)</th>\n",
              "      <th>Total_foot_falls</th>\n",
              "      <th>Month</th>\n",
              "    </tr>\n",
              "  </thead>\n",
              "  <tbody>\n",
              "    <tr>\n",
              "      <th>4315614</th>\n",
              "      <td>2022</td>\n",
              "      <td>Zero Airport</td>\n",
              "      <td>DIBRUGARH</td>\n",
              "      <td>4.0</td>\n",
              "      <td>1.0</td>\n",
              "      <td>January</td>\n",
              "      <td>2025-01-07</td>\n",
              "      <td>980482</td>\n",
              "      <td>489508</td>\n",
              "      <td>490974</td>\n",
              "      <td>3184</td>\n",
              "      <td>3183</td>\n",
              "      <td>621.0</td>\n",
              "      <td>621.0</td>\n",
              "      <td>230138.0</td>\n",
              "      <td>1210620.0</td>\n",
              "      <td>2025-01</td>\n",
              "    </tr>\n",
              "    <tr>\n",
              "      <th>4315615</th>\n",
              "      <td>2022</td>\n",
              "      <td>Zero Airport</td>\n",
              "      <td>DIBRUGARH</td>\n",
              "      <td>4.0</td>\n",
              "      <td>1.0</td>\n",
              "      <td>January</td>\n",
              "      <td>2025-01-28</td>\n",
              "      <td>965398</td>\n",
              "      <td>482756</td>\n",
              "      <td>482642</td>\n",
              "      <td>3199</td>\n",
              "      <td>3206</td>\n",
              "      <td>608.0</td>\n",
              "      <td>613.0</td>\n",
              "      <td>213937.0</td>\n",
              "      <td>1179335.0</td>\n",
              "      <td>2025-01</td>\n",
              "    </tr>\n",
              "    <tr>\n",
              "      <th>4315616</th>\n",
              "      <td>2022</td>\n",
              "      <td>Zero Airport</td>\n",
              "      <td>DIBRUGARH</td>\n",
              "      <td>4.0</td>\n",
              "      <td>1.0</td>\n",
              "      <td>January</td>\n",
              "      <td>2025-01-29</td>\n",
              "      <td>956181</td>\n",
              "      <td>477659</td>\n",
              "      <td>478522</td>\n",
              "      <td>3177</td>\n",
              "      <td>3182</td>\n",
              "      <td>663.0</td>\n",
              "      <td>586.0</td>\n",
              "      <td>219472.0</td>\n",
              "      <td>1175653.0</td>\n",
              "      <td>2025-01</td>\n",
              "    </tr>\n",
              "    <tr>\n",
              "      <th>4315617</th>\n",
              "      <td>2022</td>\n",
              "      <td>Zero Airport</td>\n",
              "      <td>DIBRUGARH</td>\n",
              "      <td>4.0</td>\n",
              "      <td>1.0</td>\n",
              "      <td>January</td>\n",
              "      <td>2025-01-30</td>\n",
              "      <td>974004</td>\n",
              "      <td>486012</td>\n",
              "      <td>487992</td>\n",
              "      <td>3206</td>\n",
              "      <td>3203</td>\n",
              "      <td>650.0</td>\n",
              "      <td>601.0</td>\n",
              "      <td>225000.0</td>\n",
              "      <td>1199004.0</td>\n",
              "      <td>2025-01</td>\n",
              "    </tr>\n",
              "    <tr>\n",
              "      <th>4315618</th>\n",
              "      <td>2022</td>\n",
              "      <td>Zero Airport</td>\n",
              "      <td>DIBRUGARH</td>\n",
              "      <td>4.0</td>\n",
              "      <td>1.0</td>\n",
              "      <td>January</td>\n",
              "      <td>2025-01-31</td>\n",
              "      <td>997458</td>\n",
              "      <td>498462</td>\n",
              "      <td>498996</td>\n",
              "      <td>3201</td>\n",
              "      <td>3197</td>\n",
              "      <td>662.0</td>\n",
              "      <td>591.0</td>\n",
              "      <td>234359.0</td>\n",
              "      <td>1231817.0</td>\n",
              "      <td>2025-01</td>\n",
              "    </tr>\n",
              "  </tbody>\n",
              "</table>\n",
              "</div>"
            ],
            "text/plain": [
              "         Year         City1      City2  PaxToCity2  PaxFromCity2 Month Name  \\\n",
              "4315614  2022  Zero Airport  DIBRUGARH         4.0           1.0    January   \n",
              "4315615  2022  Zero Airport  DIBRUGARH         4.0           1.0    January   \n",
              "4315616  2022  Zero Airport  DIBRUGARH         4.0           1.0    January   \n",
              "4315617  2022  Zero Airport  DIBRUGARH         4.0           1.0    January   \n",
              "4315618  2022  Zero Airport  DIBRUGARH         4.0           1.0    January   \n",
              "\n",
              "              Date  Domestic (Airport Footfalls)  Domestic (Arriving Pax)  \\\n",
              "4315614 2025-01-07                        980482                   489508   \n",
              "4315615 2025-01-28                        965398                   482756   \n",
              "4315616 2025-01-29                        956181                   477659   \n",
              "4315617 2025-01-30                        974004                   486012   \n",
              "4315618 2025-01-31                        997458                   498462   \n",
              "\n",
              "         Domestic (Departing Pax)  Domestic (Arrival Flights)  \\\n",
              "4315614                    490974                        3184   \n",
              "4315615                    482642                        3199   \n",
              "4315616                    478522                        3177   \n",
              "4315617                    487992                        3206   \n",
              "4315618                    498996                        3201   \n",
              "\n",
              "         Domestic (Departure Flights)  International (Arrival Flights)  \\\n",
              "4315614                          3183                            621.0   \n",
              "4315615                          3206                            608.0   \n",
              "4315616                          3182                            663.0   \n",
              "4315617                          3203                            650.0   \n",
              "4315618                          3197                            662.0   \n",
              "\n",
              "         International (Departure Flights)  International (Airport Footfalls)  \\\n",
              "4315614                              621.0                           230138.0   \n",
              "4315615                              613.0                           213937.0   \n",
              "4315616                              586.0                           219472.0   \n",
              "4315617                              601.0                           225000.0   \n",
              "4315618                              591.0                           234359.0   \n",
              "\n",
              "         Total_foot_falls    Month  \n",
              "4315614         1210620.0  2025-01  \n",
              "4315615         1179335.0  2025-01  \n",
              "4315616         1175653.0  2025-01  \n",
              "4315617         1199004.0  2025-01  \n",
              "4315618         1231817.0  2025-01  "
            ]
          },
          "execution_count": 301,
          "metadata": {},
          "output_type": "execute_result"
        }
      ],
      "source": [
        "city_and_daily.tail()"
      ]
    },
    {
      "cell_type": "code",
      "execution_count": null,
      "id": "c7e3145d-c98f-456f-be90-8fe19e564ca8",
      "metadata": {
        "id": "c7e3145d-c98f-456f-be90-8fe19e564ca8"
      },
      "outputs": [],
      "source": [
        "city_top_footfalls=city_and_daily.groupby('City1')['Total_foot_falls'].max().sort_values(ascending=True).reset_index()"
      ]
    },
    {
      "cell_type": "code",
      "execution_count": null,
      "id": "28d8d67e-dd8f-4d42-b2c7-c96523d3d733",
      "metadata": {
        "id": "28d8d67e-dd8f-4d42-b2c7-c96523d3d733"
      },
      "outputs": [],
      "source": [
        "city_top_footfalls=city_top_footfalls.rename(columns={'City1':'City','Total_foot_falls':'Avg FootFalls'})"
      ]
    },
    {
      "cell_type": "code",
      "execution_count": null,
      "id": "25852cdb-dfcd-4d65-9b49-8a4e85b73d41",
      "metadata": {
        "id": "25852cdb-dfcd-4d65-9b49-8a4e85b73d41",
        "outputId": "3973a274-311a-4c94-af1d-26e658cb3390"
      },
      "outputs": [
        {
          "data": {
            "text/html": [
              "<div>\n",
              "<style scoped>\n",
              "    .dataframe tbody tr th:only-of-type {\n",
              "        vertical-align: middle;\n",
              "    }\n",
              "\n",
              "    .dataframe tbody tr th {\n",
              "        vertical-align: top;\n",
              "    }\n",
              "\n",
              "    .dataframe thead th {\n",
              "        text-align: right;\n",
              "    }\n",
              "</style>\n",
              "<table border=\"1\" class=\"dataframe\">\n",
              "  <thead>\n",
              "    <tr style=\"text-align: right;\">\n",
              "      <th></th>\n",
              "      <th>City</th>\n",
              "      <th>Avg FootFalls</th>\n",
              "    </tr>\n",
              "  </thead>\n",
              "  <tbody>\n",
              "    <tr>\n",
              "      <th>0</th>\n",
              "      <td>ADAMPUR</td>\n",
              "      <td>1232466.0</td>\n",
              "    </tr>\n",
              "    <tr>\n",
              "      <th>1</th>\n",
              "      <td>Malvan</td>\n",
              "      <td>1232466.0</td>\n",
              "    </tr>\n",
              "    <tr>\n",
              "      <th>2</th>\n",
              "      <td>MYSORE</td>\n",
              "      <td>1232466.0</td>\n",
              "    </tr>\n",
              "    <tr>\n",
              "      <th>3</th>\n",
              "      <td>MUMBAI</td>\n",
              "      <td>1232466.0</td>\n",
              "    </tr>\n",
              "    <tr>\n",
              "      <th>4</th>\n",
              "      <td>MOPA, GOA</td>\n",
              "      <td>1232466.0</td>\n",
              "    </tr>\n",
              "  </tbody>\n",
              "</table>\n",
              "</div>"
            ],
            "text/plain": [
              "        City  Avg FootFalls\n",
              "0    ADAMPUR      1232466.0\n",
              "1     Malvan      1232466.0\n",
              "2     MYSORE      1232466.0\n",
              "3     MUMBAI      1232466.0\n",
              "4  MOPA, GOA      1232466.0"
            ]
          },
          "execution_count": 299,
          "metadata": {},
          "output_type": "execute_result"
        }
      ],
      "source": [
        "city_top_footfalls.head()"
      ]
    },
    {
      "cell_type": "code",
      "execution_count": null,
      "id": "8d004d83-72da-4ba3-b02d-90ea475a5e7a",
      "metadata": {
        "id": "8d004d83-72da-4ba3-b02d-90ea475a5e7a",
        "outputId": "0210dae6-1c8b-4ce5-cabc-95ee81058f10"
      },
      "outputs": [
        {
          "name": "stdout",
          "output_type": "stream",
          "text": [
            "                        PaxToCity2   PaxFromCity2\n",
            "City1     City2                                  \n",
            "MUMBAI    DELHI      276149.305085  276892.406780\n",
            "DELHI     MUMBAI     204150.796610  203666.305085\n",
            "BENGALURU DELHI      157424.722689  157435.403361\n",
            "          MUMBAI     133297.092437  133860.647059\n",
            "KOLKATA   DELHI      113868.755102  119994.653061\n",
            "DELHI     HYDERABAD  102750.478632  103598.435897\n",
            "          KOLKATA    102430.623188   97661.753623\n",
            "MUMBAI    GOA         99146.777778  100477.000000\n",
            "DELHI     CHENNAI     98424.897959   99242.897959\n",
            "          PUNE        95195.794872   94732.521368\n"
          ]
        }
      ],
      "source": [
        "top_city_pairs = (\n",
        "    city_and_daily.groupby(['City1', 'City2'])[['PaxToCity2', 'PaxFromCity2']]\n",
        "    .mean()\n",
        "    .sort_values(by='PaxToCity2', ascending=False)\n",
        "    .head(10)\n",
        ")\n",
        "print(top_city_pairs)"
      ]
    },
    {
      "cell_type": "code",
      "execution_count": null,
      "id": "bcefb1f4-69b0-4006-b443-d3e00e055f5f",
      "metadata": {
        "id": "bcefb1f4-69b0-4006-b443-d3e00e055f5f",
        "outputId": "1b163c1d-b0b4-4f52-d16b-4e7da7519be5"
      },
      "outputs": [
        {
          "data": {
            "image/png": "[encoded data removed]",
            "text/plain": [
              "<Figure size 1200x600 with 1 Axes>"
            ]
          },
          "metadata": {},
          "output_type": "display_data"
        }
      ],
      "source": [
        "import matplotlib.pyplot as plt\n",
        "\n",
        "# Reset index and create City Pair label\n",
        "top_city_pairs = top_city_pairs.reset_index()\n",
        "top_city_pairs['City Pair'] = top_city_pairs['City1'] + ' → ' + top_city_pairs['City2']\n",
        "\n",
        "# Generate unique colors using a colormap\n",
        "colors = plt.cm.tab10.colors  # Can change to plt.cm.Set3, plt.cm.Paired, etc.\n",
        "color_list = [colors[i % len(colors)] for i in range(len(top_city_pairs))]\n",
        "\n",
        "# Plot\n",
        "plt.figure(figsize=(12, 6))\n",
        "plt.barh(top_city_pairs['City Pair'], top_city_pairs['PaxToCity2'], color=color_list)\n",
        "plt.xlabel('Avg Passengers To City2')\n",
        "plt.title('Top 10 City Pairs by Avg Passengers To City2')\n",
        "plt.gca().invert_yaxis()  # So largest is on top\n",
        "plt.tight_layout()\n",
        "plt.show()\n"
      ]
    },
    {
      "cell_type": "code",
      "execution_count": null,
      "id": "bb276c86-09c6-417a-86c1-1228023e8a89",
      "metadata": {
        "id": "bb276c86-09c6-417a-86c1-1228023e8a89"
      },
      "outputs": [],
      "source": [
        "city_and_daily=city_and_daily.iloc[:1000]"
      ]
    },
    {
      "cell_type": "code",
      "execution_count": null,
      "id": "8b864792-4237-4a1f-be37-9f16f55f0c71",
      "metadata": {
        "id": "8b864792-4237-4a1f-be37-9f16f55f0c71"
      },
      "outputs": [],
      "source": [
        "city_and_daily.to_csv('city_daily.csv')"
      ]
    },
    {
      "cell_type": "code",
      "execution_count": null,
      "id": "0a1642a5-83cb-4926-9ea1-2988bae4b11d",
      "metadata": {
        "id": "0a1642a5-83cb-4926-9ea1-2988bae4b11d",
        "outputId": "77560444-3850-4b9c-d07a-2b5939267929"
      },
      "outputs": [
        {
          "data": {
            "text/plain": [
              "(4315619, 17)"
            ]
          },
          "execution_count": 328,
          "metadata": {},
          "output_type": "execute_result"
        }
      ],
      "source": [
        "city_and_daily.shape"
      ]
    },
    {
      "cell_type": "code",
      "execution_count": null,
      "id": "8a45bc9f-3b94-49d0-9ff9-435d40b14127",
      "metadata": {
        "id": "8a45bc9f-3b94-49d0-9ff9-435d40b14127"
      },
      "outputs": [],
      "source": []
    }
  ],
  "metadata": {
    "kernelspec": {
      "display_name": "Python [conda env:base] *",
      "language": "python",
      "name": "conda-base-py"
    },
    "language_info": {
      "codemirror_mode": {
        "name": "ipython",
        "version": 3
      },
      "file_extension": ".py",
      "mimetype": "text/x-python",
      "name": "python",
      "nbconvert_exporter": "python",
      "pygments_lexer": "ipython3",
      "version": "3.12.7"
    },
    "colab": {
      "provenance": [],
      "include_colab_link": true
    }
  },
  "nbformat": 4,
  "nbformat_minor": 5
}